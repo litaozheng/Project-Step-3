{
 "cells": [
  {
   "cell_type": "code",
   "execution_count": 1,
   "id": "65106327-3e89-4521-b67b-87bab1d9e259",
   "metadata": {},
   "outputs": [
    {
     "name": "stdout",
     "output_type": "stream",
     "text": [
      "Welcome to the French Learning Program!\n",
      "\n",
      "Select Difficulty Level:\n",
      "1. Easy\n",
      "2. Medium\n",
      "3. Hard\n",
      "Type 'exit' to finish and see your results.\n",
      "\n"
     ]
    },
    {
     "name": "stdin",
     "output_type": "stream",
     "text": [
      "Enter the number corresponding to your choice:  1\n",
      "How many words would you like to learn this session?  2\n"
     ]
    },
    {
     "name": "stdout",
     "output_type": "stream",
     "text": [
      "\n",
      "Please memorize the following French-English word pairs:\n",
      "\n",
      "pain - bread\n",
      "bonjour - hello\n",
      "\n",
      "When you are done memorizing, type 'start' to begin the quiz, or 'exit' to finish and see your results.\n",
      "\n"
     ]
    },
    {
     "name": "stdin",
     "output_type": "stream",
     "text": [
      "Type 'start' to begin the quiz:  start\n"
     ]
    },
    {
     "name": "stdout",
     "output_type": "stream",
     "text": [
      "\n",
      "\n",
      "\n",
      "\n",
      "\n",
      "\n",
      "\n",
      "\n",
      "\n",
      "\n",
      "\n",
      "\n",
      "\n",
      "\n",
      "\n",
      "\n",
      "\n",
      "\n",
      "\n",
      "\n",
      "\n",
      "\n",
      "\n",
      "\n",
      "\n",
      "\n",
      "\n",
      "\n",
      "\n",
      "\n",
      "\n",
      "\n",
      "\n",
      "\n",
      "\n",
      "\n",
      "\n",
      "\n",
      "\n",
      "\n",
      "\n",
      "\n",
      "\n",
      "\n",
      "\n",
      "\n",
      "\n",
      "\n",
      "\n",
      "\n",
      "\n",
      "Quiz Time! Please provide the English meaning for the following French words:\n",
      "Type 'exit' to finish and see your results, or 'hint' for a hint.\n",
      "\n"
     ]
    },
    {
     "name": "stdin",
     "output_type": "stream",
     "text": [
      "pain:  breaz\n"
     ]
    },
    {
     "name": "stdout",
     "output_type": "stream",
     "text": [
      "Incorrect. The correct answer is 'bread'.\n",
      "\n"
     ]
    },
    {
     "name": "stdin",
     "output_type": "stream",
     "text": [
      "bonjour:  helloa\n"
     ]
    },
    {
     "name": "stdout",
     "output_type": "stream",
     "text": [
      "Nearly correct! The correct answer is 'hello', but we'll count it as correct.\n",
      "Review the words you got wrong:\n",
      "\n",
      "pain - bread\n",
      "\n",
      "Please memorize the following French-English word pairs:\n",
      "\n",
      "pain - bread\n",
      "\n",
      "When you are done memorizing, type 'start' to begin the quiz, or 'exit' to finish and see your results.\n",
      "\n"
     ]
    },
    {
     "name": "stdin",
     "output_type": "stream",
     "text": [
      "Type 'start' to begin the quiz:  start\n"
     ]
    },
    {
     "name": "stdout",
     "output_type": "stream",
     "text": [
      "\n",
      "\n",
      "\n",
      "\n",
      "\n",
      "\n",
      "\n",
      "\n",
      "\n",
      "\n",
      "\n",
      "\n",
      "\n",
      "\n",
      "\n",
      "\n",
      "\n",
      "\n",
      "\n",
      "\n",
      "\n",
      "\n",
      "\n",
      "\n",
      "\n",
      "\n",
      "\n",
      "\n",
      "\n",
      "\n",
      "\n",
      "\n",
      "\n",
      "\n",
      "\n",
      "\n",
      "\n",
      "\n",
      "\n",
      "\n",
      "\n",
      "\n",
      "\n",
      "\n",
      "\n",
      "\n",
      "\n",
      "\n",
      "\n",
      "\n",
      "\n",
      "Quiz Time! Please provide the English meaning for the following French words:\n",
      "Type 'exit' to finish and see your results, or 'hint' for a hint.\n",
      "\n"
     ]
    },
    {
     "name": "stdin",
     "output_type": "stream",
     "text": [
      "pain:  breads\n"
     ]
    },
    {
     "name": "stdout",
     "output_type": "stream",
     "text": [
      "Nearly correct! The correct answer is 'bread', but we'll count it as correct.\n",
      "Select Difficulty Level:\n",
      "1. Easy\n",
      "2. Medium\n",
      "3. Hard\n",
      "Type 'exit' to finish and see your results.\n",
      "\n"
     ]
    },
    {
     "name": "stdin",
     "output_type": "stream",
     "text": [
      "Enter the number corresponding to your choice:  easy\n"
     ]
    },
    {
     "name": "stdout",
     "output_type": "stream",
     "text": [
      "Invalid input. Please enter 1, 2, 3, or 'exit' to finish.\n",
      "Select Difficulty Level:\n",
      "1. Easy\n",
      "2. Medium\n",
      "3. Hard\n",
      "Type 'exit' to finish and see your results.\n",
      "\n"
     ]
    },
    {
     "name": "stdin",
     "output_type": "stream",
     "text": [
      "Enter the number corresponding to your choice:  2\n",
      "How many words would you like to learn this session?  2\n"
     ]
    },
    {
     "name": "stdout",
     "output_type": "stream",
     "text": [
      "\n",
      "Please memorize the following French-English word pairs:\n",
      "\n",
      "voiture - car\n",
      "maison - house\n",
      "\n",
      "When you are done memorizing, type 'start' to begin the quiz, or 'exit' to finish and see your results.\n",
      "\n"
     ]
    },
    {
     "name": "stdin",
     "output_type": "stream",
     "text": [
      "Type 'start' to begin the quiz:  start\n"
     ]
    },
    {
     "name": "stdout",
     "output_type": "stream",
     "text": [
      "\n",
      "\n",
      "\n",
      "\n",
      "\n",
      "\n",
      "\n",
      "\n",
      "\n",
      "\n",
      "\n",
      "\n",
      "\n",
      "\n",
      "\n",
      "\n",
      "\n",
      "\n",
      "\n",
      "\n",
      "\n",
      "\n",
      "\n",
      "\n",
      "\n",
      "\n",
      "\n",
      "\n",
      "\n",
      "\n",
      "\n",
      "\n",
      "\n",
      "\n",
      "\n",
      "\n",
      "\n",
      "\n",
      "\n",
      "\n",
      "\n",
      "\n",
      "\n",
      "\n",
      "\n",
      "\n",
      "\n",
      "\n",
      "\n",
      "\n",
      "\n",
      "Quiz Time! Please provide the English meaning for the following French words:\n",
      "Type 'exit' to finish and see your results, or 'hint' for a hint.\n",
      "\n"
     ]
    },
    {
     "name": "stdin",
     "output_type": "stream",
     "text": [
      "voiture:  car\n"
     ]
    },
    {
     "name": "stdout",
     "output_type": "stream",
     "text": [
      "Correct!\n",
      "\n"
     ]
    },
    {
     "name": "stdin",
     "output_type": "stream",
     "text": [
      "maison:  house\n"
     ]
    },
    {
     "name": "stdout",
     "output_type": "stream",
     "text": [
      "Correct!\n",
      "\n",
      "Select Difficulty Level:\n",
      "1. Easy\n",
      "2. Medium\n",
      "3. Hard\n",
      "Type 'exit' to finish and see your results.\n",
      "\n"
     ]
    },
    {
     "name": "stdin",
     "output_type": "stream",
     "text": [
      "Enter the number corresponding to your choice:  exit\n"
     ]
    },
    {
     "name": "stdout",
     "output_type": "stream",
     "text": [
      "\n",
      "Test completed. Here's your progress:\n",
      "Correctness Percentage (based on first-time answers): 75.00%\n",
      "\n",
      "\n",
      "Words correctly answered on the first attempt:\n",
      "bonjour - hello\n",
      "voiture - car\n",
      "maison - house\n",
      "\n",
      "Words failed on the first attempt:\n",
      "pain - bread\n",
      "Thank you for using the French Learning Program!\n"
     ]
    }
   ],
   "source": [
    "from quiz import main\n",
    "main.main()"
   ]
  },
  {
   "cell_type": "code",
   "execution_count": null,
   "id": "9af9d85e-52ad-4c24-a3d4-daa664bf8ec9",
   "metadata": {},
   "outputs": [],
   "source": []
  }
 ],
 "metadata": {
  "kernelspec": {
   "display_name": "Python 3 (ipykernel)",
   "language": "python",
   "name": "python3"
  },
  "language_info": {
   "codemirror_mode": {
    "name": "ipython",
    "version": 3
   },
   "file_extension": ".py",
   "mimetype": "text/x-python",
   "name": "python",
   "nbconvert_exporter": "python",
   "pygments_lexer": "ipython3",
   "version": "3.12.3"
  }
 },
 "nbformat": 4,
 "nbformat_minor": 5
}
